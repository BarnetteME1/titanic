{
 "cells": [
  {
   "cell_type": "code",
   "execution_count": 1,
   "metadata": {
    "collapsed": false
   },
   "outputs": [
    {
     "name": "stderr",
     "output_type": "stream",
     "text": [
      "/Users/MatthewBarnette/iron_yard_hw/titanic/.direnv/python-3.5.0/lib/python3.5/site-packages/sklearn/utils/fixes.py:64: DeprecationWarning: inspect.getargspec() is deprecated, use inspect.signature() instead\n",
      "  if 'order' in inspect.getargspec(np.copy)[0]:\n"
     ]
    }
   ],
   "source": [
    "import re\n",
    "import pandas as pd\n",
    "import xgboost as xgb\n",
    "import seaborn as sns\n",
    "from sklearn.preprocessing import LabelEncoder\n",
    "from sklearn.cross_validation import train_test_split\n",
    "le = LabelEncoder()"
   ]
  },
  {
   "cell_type": "code",
   "execution_count": 52,
   "metadata": {
    "collapsed": false
   },
   "outputs": [],
   "source": [
    "titanic_train = pd.read_csv(\"titanic/train.csv\")\n",
    "titanic_test = pd.read_csv(\"titanic/test.csv\")\n",
    "titanic_test_fit = pd.read_csv(\"titanic/test.csv\")"
   ]
  },
  {
   "cell_type": "code",
   "execution_count": 53,
   "metadata": {
    "collapsed": false
   },
   "outputs": [
    {
     "name": "stderr",
     "output_type": "stream",
     "text": [
      "/Users/MatthewBarnette/iron_yard_hw/titanic/.direnv/python-3.5.0/lib/python3.5/site-packages/ipykernel/__main__.py:9: SettingWithCopyWarning: \n",
      "A value is trying to be set on a copy of a slice from a DataFrame\n",
      "\n",
      "See the caveats in the documentation: http://pandas.pydata.org/pandas-docs/stable/indexing.html#indexing-view-versus-copy\n"
     ]
    }
   ],
   "source": [
    "titanic_train.Cabin.fillna('Steerage', inplace=True)\n",
    "titanic_train = titanic_train.drop(['Name', 'Ticket'], axis=1)\n",
    "titanic_train.Age = titanic_train.Age.fillna(int(titanic_train.Age.mean()))\n",
    "titanic_train.Embarked = titanic_train.Embarked.fillna('U')\n",
    "\n",
    "\n",
    "for row in range(len(titanic_train.Cabin)):\n",
    "    if re.findall(r'^[A-Z, a-z]\\d+', titanic_train.Cabin[row]):\n",
    "        titanic_train.Cabin[row] = re.findall(r'^[A-Z, a-z]', titanic_train.Cabin[row])[0]\n",
    "\n",
    "\n",
    "train, test = train_test_split(titanic_train, test_size = .4)"
   ]
  },
  {
   "cell_type": "code",
   "execution_count": 54,
   "metadata": {
    "collapsed": false
   },
   "outputs": [
    {
     "name": "stderr",
     "output_type": "stream",
     "text": [
      "/Users/MatthewBarnette/iron_yard_hw/titanic/.direnv/python-3.5.0/lib/python3.5/site-packages/ipykernel/__main__.py:8: SettingWithCopyWarning: \n",
      "A value is trying to be set on a copy of a slice from a DataFrame\n",
      "\n",
      "See the caveats in the documentation: http://pandas.pydata.org/pandas-docs/stable/indexing.html#indexing-view-versus-copy\n"
     ]
    }
   ],
   "source": [
    "titanic_test.Cabin.fillna('Steerage', inplace=True)\n",
    "titanic_test = titanic_test.drop(['Name', 'Ticket'], axis=1)\n",
    "titanic_test.Age = titanic_test.Age.fillna(int(titanic_train.Age.mean()))\n",
    "titanic_test.Embarked = titanic_test.Embarked.fillna('U')\n",
    "\n",
    "for row in range(len(titanic_test.Cabin)):\n",
    "    if re.findall(r'^[A-Z, a-z]\\d+', titanic_test.Cabin[row]):\n",
    "        titanic_test.Cabin[row] = re.findall(r'^[A-Z, a-z]', titanic_test.Cabin[row])[0]"
   ]
  },
  {
   "cell_type": "code",
   "execution_count": 55,
   "metadata": {
    "collapsed": false
   },
   "outputs": [
    {
     "name": "stderr",
     "output_type": "stream",
     "text": [
      "/Users/MatthewBarnette/iron_yard_hw/titanic/.direnv/python-3.5.0/lib/python3.5/site-packages/ipykernel/__main__.py:8: SettingWithCopyWarning: \n",
      "A value is trying to be set on a copy of a slice from a DataFrame\n",
      "\n",
      "See the caveats in the documentation: http://pandas.pydata.org/pandas-docs/stable/indexing.html#indexing-view-versus-copy\n"
     ]
    }
   ],
   "source": [
    "titanic_test_fit.Cabin.fillna('Steerage', inplace=True)\n",
    "titanic_test_fit = titanic_test_fit.drop(['Name', 'Ticket'], axis=1)\n",
    "titanic_test_fit.Age = titanic_test_fit.Age.fillna(int(titanic_train.Age.mean()))\n",
    "titanic_test_fit.Embarked = titanic_test_fit.Embarked.fillna('U')\n",
    "\n",
    "for row in range(len(titanic_test_fit.Cabin)):\n",
    "    if re.findall(r'^[A-Z, a-z]\\d+', titanic_test_fit.Cabin[row]):\n",
    "        titanic_test_fit.Cabin[row] = re.findall(r'^[A-Z, a-z]', titanic_test_fit.Cabin[row])[0]"
   ]
  },
  {
   "cell_type": "code",
   "execution_count": 56,
   "metadata": {
    "collapsed": false
   },
   "outputs": [
    {
     "name": "stderr",
     "output_type": "stream",
     "text": [
      "/Users/MatthewBarnette/iron_yard_hw/titanic/.direnv/python-3.5.0/lib/python3.5/site-packages/ipykernel/__main__.py:9: SettingWithCopyWarning: \n",
      "A value is trying to be set on a copy of a slice from a DataFrame.\n",
      "Try using .loc[row_indexer,col_indexer] = value instead\n",
      "\n",
      "See the caveats in the documentation: http://pandas.pydata.org/pandas-docs/stable/indexing.html#indexing-view-versus-copy\n",
      "/Users/MatthewBarnette/iron_yard_hw/titanic/.direnv/python-3.5.0/lib/python3.5/site-packages/ipykernel/__main__.py:14: SettingWithCopyWarning: \n",
      "A value is trying to be set on a copy of a slice from a DataFrame.\n",
      "Try using .loc[row_indexer,col_indexer] = value instead\n",
      "\n",
      "See the caveats in the documentation: http://pandas.pydata.org/pandas-docs/stable/indexing.html#indexing-view-versus-copy\n"
     ]
    }
   ],
   "source": [
    "for column in titanic_test.columns.values:\n",
    "    if column == 'Sex' or column == 'Cabin' or column == 'Embarked':\n",
    "        le.fit(titanic_test_fit[column])\n",
    "        titanic_test[column] = le.transform(titanic_test[column])\n",
    "\n",
    "for column in titanic_train.columns.values:\n",
    "    if column == 'Sex' or column == 'Cabin' or column == 'Embarked':\n",
    "        le.fit(titanic_train[column])\n",
    "        train[column] = le.transform(train[column])\n",
    "\n",
    "for column in titanic_train.columns.values:\n",
    "    if column == 'Sex' or column == 'Cabin' or column == 'Embarked':\n",
    "        le.fit(titanic_train[column])        \n",
    "        test[column] = le.transform(test[column])"
   ]
  },
  {
   "cell_type": "code",
   "execution_count": 57,
   "metadata": {
    "collapsed": true
   },
   "outputs": [],
   "source": [
    "survived_train = train['Survived']\n",
    "train = train.drop(['Survived'], axis=1)\n",
    "\n",
    "survived_test = test['Survived']\n",
    "test = test.drop(['Survived'], axis=1)"
   ]
  },
  {
   "cell_type": "code",
   "execution_count": 58,
   "metadata": {
    "collapsed": false
   },
   "outputs": [],
   "source": [
    "dtrain = xgb.DMatrix(train.as_matrix(),\n",
    "                     label=survived_train)\n",
    "dtest = xgb.DMatrix(test.as_matrix(),\n",
    "                    label=survived_test)"
   ]
  },
  {
   "cell_type": "code",
   "execution_count": 61,
   "metadata": {
    "collapsed": true
   },
   "outputs": [],
   "source": [
    "param = {'bst:max_depth':8, 'objective':'binary:logistic'}\n",
    "param['nthread'] = 6\n",
    "param['eval_metric'] = ['logloss']\n",
    "evallist  = [(dtrain,'train'), (dtest,'eval')]\n",
    "num_round = 500"
   ]
  },
  {
   "cell_type": "code",
   "execution_count": 62,
   "metadata": {
    "collapsed": false
   },
   "outputs": [
    {
     "name": "stderr",
     "output_type": "stream",
     "text": [
      "Will train until eval error hasn't decreased in 3 rounds.\n",
      "[0]\ttrain-logloss:0.531934\teval-logloss:0.581645\n",
      "[1]\ttrain-logloss:0.446473\teval-logloss:0.514687\n",
      "[2]\ttrain-logloss:0.382868\teval-logloss:0.478933\n",
      "[3]\ttrain-logloss:0.340647\teval-logloss:0.460820\n",
      "[4]\ttrain-logloss:0.309340\teval-logloss:0.449650\n",
      "[5]\ttrain-logloss:0.277643\teval-logloss:0.451634\n",
      "[6]\ttrain-logloss:0.257124\teval-logloss:0.448353\n",
      "[7]\ttrain-logloss:0.234978\teval-logloss:0.454577\n",
      "[8]\ttrain-logloss:0.223138\teval-logloss:0.457778\n",
      "[9]\ttrain-logloss:0.213090\teval-logloss:0.459709\n",
      "Stopping. Best iteration:\n",
      "[6]\ttrain-logloss:0.257124\teval-logloss:0.448353\n",
      "\n"
     ]
    }
   ],
   "source": [
    "bst = xgb.train(param, dtrain, num_round, evallist, early_stopping_rounds=3)"
   ]
  },
  {
   "cell_type": "code",
   "execution_count": 63,
   "metadata": {
    "collapsed": true
   },
   "outputs": [],
   "source": [
    "predictions = bst.predict(xgb.DMatrix(test.as_matrix()), output_margin=False)"
   ]
  },
  {
   "cell_type": "code",
   "execution_count": 66,
   "metadata": {
    "collapsed": false
   },
   "outputs": [
    {
     "data": {
      "text/html": [
       "<div>\n",
       "<table border=\"1\" class=\"dataframe\">\n",
       "  <thead>\n",
       "    <tr style=\"text-align: right;\">\n",
       "      <th></th>\n",
       "      <th>0</th>\n",
       "    </tr>\n",
       "  </thead>\n",
       "  <tbody>\n",
       "    <tr>\n",
       "      <th>0</th>\n",
       "      <td>0.460327</td>\n",
       "    </tr>\n",
       "    <tr>\n",
       "      <th>1</th>\n",
       "      <td>0.120913</td>\n",
       "    </tr>\n",
       "    <tr>\n",
       "      <th>2</th>\n",
       "      <td>0.150319</td>\n",
       "    </tr>\n",
       "    <tr>\n",
       "      <th>3</th>\n",
       "      <td>0.222949</td>\n",
       "    </tr>\n",
       "    <tr>\n",
       "      <th>4</th>\n",
       "      <td>0.077094</td>\n",
       "    </tr>\n",
       "    <tr>\n",
       "      <th>5</th>\n",
       "      <td>0.217853</td>\n",
       "    </tr>\n",
       "    <tr>\n",
       "      <th>6</th>\n",
       "      <td>0.326861</td>\n",
       "    </tr>\n",
       "    <tr>\n",
       "      <th>7</th>\n",
       "      <td>0.106162</td>\n",
       "    </tr>\n",
       "    <tr>\n",
       "      <th>8</th>\n",
       "      <td>0.040231</td>\n",
       "    </tr>\n",
       "    <tr>\n",
       "      <th>9</th>\n",
       "      <td>0.664719</td>\n",
       "    </tr>\n",
       "    <tr>\n",
       "      <th>10</th>\n",
       "      <td>0.120032</td>\n",
       "    </tr>\n",
       "    <tr>\n",
       "      <th>11</th>\n",
       "      <td>0.387098</td>\n",
       "    </tr>\n",
       "    <tr>\n",
       "      <th>12</th>\n",
       "      <td>0.158872</td>\n",
       "    </tr>\n",
       "    <tr>\n",
       "      <th>13</th>\n",
       "      <td>0.860504</td>\n",
       "    </tr>\n",
       "    <tr>\n",
       "      <th>14</th>\n",
       "      <td>0.934231</td>\n",
       "    </tr>\n",
       "    <tr>\n",
       "      <th>15</th>\n",
       "      <td>0.914586</td>\n",
       "    </tr>\n",
       "    <tr>\n",
       "      <th>16</th>\n",
       "      <td>0.884596</td>\n",
       "    </tr>\n",
       "    <tr>\n",
       "      <th>17</th>\n",
       "      <td>0.328092</td>\n",
       "    </tr>\n",
       "    <tr>\n",
       "      <th>18</th>\n",
       "      <td>0.861117</td>\n",
       "    </tr>\n",
       "    <tr>\n",
       "      <th>19</th>\n",
       "      <td>0.934231</td>\n",
       "    </tr>\n",
       "    <tr>\n",
       "      <th>20</th>\n",
       "      <td>0.104823</td>\n",
       "    </tr>\n",
       "    <tr>\n",
       "      <th>21</th>\n",
       "      <td>0.965965</td>\n",
       "    </tr>\n",
       "    <tr>\n",
       "      <th>22</th>\n",
       "      <td>0.457193</td>\n",
       "    </tr>\n",
       "    <tr>\n",
       "      <th>23</th>\n",
       "      <td>0.655927</td>\n",
       "    </tr>\n",
       "    <tr>\n",
       "      <th>24</th>\n",
       "      <td>0.129755</td>\n",
       "    </tr>\n",
       "    <tr>\n",
       "      <th>25</th>\n",
       "      <td>0.093651</td>\n",
       "    </tr>\n",
       "    <tr>\n",
       "      <th>26</th>\n",
       "      <td>0.173544</td>\n",
       "    </tr>\n",
       "    <tr>\n",
       "      <th>27</th>\n",
       "      <td>0.945063</td>\n",
       "    </tr>\n",
       "    <tr>\n",
       "      <th>28</th>\n",
       "      <td>0.217899</td>\n",
       "    </tr>\n",
       "    <tr>\n",
       "      <th>29</th>\n",
       "      <td>0.040231</td>\n",
       "    </tr>\n",
       "    <tr>\n",
       "      <th>...</th>\n",
       "      <td>...</td>\n",
       "    </tr>\n",
       "    <tr>\n",
       "      <th>327</th>\n",
       "      <td>0.473941</td>\n",
       "    </tr>\n",
       "    <tr>\n",
       "      <th>328</th>\n",
       "      <td>0.052881</td>\n",
       "    </tr>\n",
       "    <tr>\n",
       "      <th>329</th>\n",
       "      <td>0.960935</td>\n",
       "    </tr>\n",
       "    <tr>\n",
       "      <th>330</th>\n",
       "      <td>0.934231</td>\n",
       "    </tr>\n",
       "    <tr>\n",
       "      <th>331</th>\n",
       "      <td>0.947690</td>\n",
       "    </tr>\n",
       "    <tr>\n",
       "      <th>332</th>\n",
       "      <td>0.951073</td>\n",
       "    </tr>\n",
       "    <tr>\n",
       "      <th>333</th>\n",
       "      <td>0.965965</td>\n",
       "    </tr>\n",
       "    <tr>\n",
       "      <th>334</th>\n",
       "      <td>0.318444</td>\n",
       "    </tr>\n",
       "    <tr>\n",
       "      <th>335</th>\n",
       "      <td>0.912629</td>\n",
       "    </tr>\n",
       "    <tr>\n",
       "      <th>336</th>\n",
       "      <td>0.365360</td>\n",
       "    </tr>\n",
       "    <tr>\n",
       "      <th>337</th>\n",
       "      <td>0.533099</td>\n",
       "    </tr>\n",
       "    <tr>\n",
       "      <th>338</th>\n",
       "      <td>0.950350</td>\n",
       "    </tr>\n",
       "    <tr>\n",
       "      <th>339</th>\n",
       "      <td>0.965965</td>\n",
       "    </tr>\n",
       "    <tr>\n",
       "      <th>340</th>\n",
       "      <td>0.489186</td>\n",
       "    </tr>\n",
       "    <tr>\n",
       "      <th>341</th>\n",
       "      <td>0.180344</td>\n",
       "    </tr>\n",
       "    <tr>\n",
       "      <th>342</th>\n",
       "      <td>0.040231</td>\n",
       "    </tr>\n",
       "    <tr>\n",
       "      <th>343</th>\n",
       "      <td>0.052678</td>\n",
       "    </tr>\n",
       "    <tr>\n",
       "      <th>344</th>\n",
       "      <td>0.931353</td>\n",
       "    </tr>\n",
       "    <tr>\n",
       "      <th>345</th>\n",
       "      <td>0.061719</td>\n",
       "    </tr>\n",
       "    <tr>\n",
       "      <th>346</th>\n",
       "      <td>0.347637</td>\n",
       "    </tr>\n",
       "    <tr>\n",
       "      <th>347</th>\n",
       "      <td>0.044574</td>\n",
       "    </tr>\n",
       "    <tr>\n",
       "      <th>348</th>\n",
       "      <td>0.037973</td>\n",
       "    </tr>\n",
       "    <tr>\n",
       "      <th>349</th>\n",
       "      <td>0.061719</td>\n",
       "    </tr>\n",
       "    <tr>\n",
       "      <th>350</th>\n",
       "      <td>0.142197</td>\n",
       "    </tr>\n",
       "    <tr>\n",
       "      <th>351</th>\n",
       "      <td>0.077254</td>\n",
       "    </tr>\n",
       "    <tr>\n",
       "      <th>352</th>\n",
       "      <td>0.174441</td>\n",
       "    </tr>\n",
       "    <tr>\n",
       "      <th>353</th>\n",
       "      <td>0.038080</td>\n",
       "    </tr>\n",
       "    <tr>\n",
       "      <th>354</th>\n",
       "      <td>0.351312</td>\n",
       "    </tr>\n",
       "    <tr>\n",
       "      <th>355</th>\n",
       "      <td>0.112562</td>\n",
       "    </tr>\n",
       "    <tr>\n",
       "      <th>356</th>\n",
       "      <td>0.056478</td>\n",
       "    </tr>\n",
       "  </tbody>\n",
       "</table>\n",
       "<p>357 rows × 1 columns</p>\n",
       "</div>"
      ],
      "text/plain": [
       "            0\n",
       "0    0.460327\n",
       "1    0.120913\n",
       "2    0.150319\n",
       "3    0.222949\n",
       "4    0.077094\n",
       "5    0.217853\n",
       "6    0.326861\n",
       "7    0.106162\n",
       "8    0.040231\n",
       "9    0.664719\n",
       "10   0.120032\n",
       "11   0.387098\n",
       "12   0.158872\n",
       "13   0.860504\n",
       "14   0.934231\n",
       "15   0.914586\n",
       "16   0.884596\n",
       "17   0.328092\n",
       "18   0.861117\n",
       "19   0.934231\n",
       "20   0.104823\n",
       "21   0.965965\n",
       "22   0.457193\n",
       "23   0.655927\n",
       "24   0.129755\n",
       "25   0.093651\n",
       "26   0.173544\n",
       "27   0.945063\n",
       "28   0.217899\n",
       "29   0.040231\n",
       "..        ...\n",
       "327  0.473941\n",
       "328  0.052881\n",
       "329  0.960935\n",
       "330  0.934231\n",
       "331  0.947690\n",
       "332  0.951073\n",
       "333  0.965965\n",
       "334  0.318444\n",
       "335  0.912629\n",
       "336  0.365360\n",
       "337  0.533099\n",
       "338  0.950350\n",
       "339  0.965965\n",
       "340  0.489186\n",
       "341  0.180344\n",
       "342  0.040231\n",
       "343  0.052678\n",
       "344  0.931353\n",
       "345  0.061719\n",
       "346  0.347637\n",
       "347  0.044574\n",
       "348  0.037973\n",
       "349  0.061719\n",
       "350  0.142197\n",
       "351  0.077254\n",
       "352  0.174441\n",
       "353  0.038080\n",
       "354  0.351312\n",
       "355  0.112562\n",
       "356  0.056478\n",
       "\n",
       "[357 rows x 1 columns]"
      ]
     },
     "execution_count": 66,
     "metadata": {},
     "output_type": "execute_result"
    }
   ],
   "source": [
    "pd.DataFrame(predictions)"
   ]
  }
 ],
 "metadata": {
  "kernelspec": {
   "display_name": "Python 3",
   "language": "python",
   "name": "python3"
  },
  "language_info": {
   "codemirror_mode": {
    "name": "ipython",
    "version": 3
   },
   "file_extension": ".py",
   "mimetype": "text/x-python",
   "name": "python",
   "nbconvert_exporter": "python",
   "pygments_lexer": "ipython3",
   "version": "3.5.0"
  }
 },
 "nbformat": 4,
 "nbformat_minor": 0
}
